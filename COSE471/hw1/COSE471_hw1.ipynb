{
  "cells": [
    {
      "cell_type": "markdown",
      "metadata": {
        "id": "6uBLzs56_RuC",
        "nbgrader": {
          "grade": false,
          "grade_id": "title",
          "locked": true,
          "schema_version": 2,
          "solution": false
        }
      },
      "source": [
        "# HW 1: Math Review and Plotting\n",
        "## Due Date: Mon 4/1, 11:59 PM"
      ]
    },
    {
      "cell_type": "markdown",
      "metadata": {
        "id": "KVMcWxW__RuD"
      },
      "source": [
        "**Collaboration Policy:** You may talk with others about the homework, but we ask that you **write your solutions individually**. If you do discuss the assignments with others, please **include their names** in the following line.\n",
        "\n",
        "**Collaborators**: *list collaborators here (if applicable)*"
      ]
    },
    {
      "cell_type": "markdown",
      "metadata": {
        "id": "yhFO7yBK_RuD"
      },
      "source": [
        "## This Assignment\n",
        "\n",
        "This homework is to help you diagnose your preparedness for the course. The rest of this course will assume familiarity with the programming and math concepts covered in this homework. Please consider reviewing prerequisite material if you struggle with this homework.\n",
        "\n",
        "## Score Breakdown\n",
        "Question | Points\n",
        "--- | ---\n",
        "1 | 1\n",
        "2a | 1\n",
        "2b | 1\n",
        "2c | 1\n",
        "2d | 1\n",
        "3a | 4\n",
        "3b | 2\n",
        "4a | 2\n",
        "4b | 2\n",
        "5 | 2\n",
        "6a | 2\n",
        "6b | 1\n",
        "6c | 1\n",
        "7 | 5\n",
        "Total | 30"
      ]
    },
    {
      "cell_type": "markdown",
      "metadata": {
        "id": "Jtl-74le_RuE",
        "nbgrader": {
          "grade": false,
          "grade_id": "jupyter-shortcuts",
          "locked": true,
          "schema_version": 2,
          "solution": false
        }
      },
      "source": [
        "Here are some useful Jupyter notebook keyboard shortcuts.  To learn more keyboard shortcuts, go to **Help -> Keyboard Shortcuts** in the menu above.\n",
        "\n",
        "Here are a few we like:\n",
        "1. `ctrl`+`return` : *Evaluate the current cell*\n",
        "1. `shift`+`return`: *Evaluate the current cell and move to the next*\n",
        "1. `esc` : *command mode* (may need to press before using any of the commands below)\n",
        "1. `a` : *create a cell above*\n",
        "1. `b` : *create a cell below*\n",
        "1. `dd` : *delete a cell*\n",
        "1. `m` : *convert a cell to markdown*\n",
        "1. `y` : *convert a cell to code*"
      ]
    },
    {
      "cell_type": "markdown",
      "metadata": {
        "id": "uhs49f6x_RuE",
        "nbgrader": {
          "grade": false,
          "grade_id": "testing-your-setup",
          "locked": true,
          "schema_version": 2,
          "solution": false
        }
      },
      "source": [
        "### Initialize your environment\n",
        "\n",
        "This cell should run without error if you have **set up your personal computer correctly**."
      ]
    },
    {
      "cell_type": "code",
      "execution_count": null,
      "metadata": {
        "id": "j2OzfQQz_RuE",
        "nbgrader": {
          "grade": false,
          "grade_id": "all-the-imports",
          "locked": true,
          "schema_version": 2,
          "solution": false
        }
      },
      "outputs": [],
      "source": [
        "import numpy as np\n",
        "import matplotlib\n",
        "%matplotlib inline\n",
        "import matplotlib.pyplot as plt\n",
        "plt.style.use('fivethirtyeight')\n",
        "\n",
        "from IPython.display import display, Latex, Markdown"
      ]
    },
    {
      "cell_type": "markdown",
      "metadata": {
        "id": "guh8oUtQ_RuF",
        "nbgrader": {
          "grade": false,
          "grade_id": "question-1d",
          "locked": true,
          "schema_version": 2,
          "solution": false
        }
      },
      "source": [
        "## Python\n",
        "### Question 1 (1 pt)\n",
        "Recall the formula for population variance below:\n",
        "\n",
        "$$\\texttt{Mean}({\\bf{x}}) = \\mu = \\frac{1}{N}\\sum_{i=1}^N x_i$$\n",
        "\n",
        "$$\\texttt{Var}({\\bf{x}}) = \\sigma^2 = \\frac{1}{N}\\sum_{i=1}^N (x_i - \\mu)^2$$\n",
        "\n",
        "Complete the functions below to compute the variance of `population`, an array of numbers. For this question, do not use built-in NumPy functions (i.e. `np.mean` and `np.var`); instead we will use NumPy to verify your code.\n",
        "\n",
        "<!--\n",
        "BEGIN QUESTION\n",
        "name: q1\n",
        "points: 1\n",
        "-->"
      ]
    },
    {
      "cell_type": "code",
      "execution_count": null,
      "metadata": {
        "id": "fGP0FzRA_RuF",
        "nbgrader": {
          "grade": false,
          "grade_id": "mean-variance",
          "locked": false,
          "schema_version": 2,
          "solution": true
        }
      },
      "outputs": [],
      "source": [
        "def mean(population):\n",
        "    \"\"\"\n",
        "    Compute the mean of population (mu).\n",
        "\n",
        "    Args:\n",
        "        population: a numpy array of numbers of shape [N,]\n",
        "    Returns:\n",
        "        the mean of population (mu).\n",
        "    \"\"\"\n",
        "    # Calculate the mean of a population\n",
        "    # BEGIN YOUR CODE\n",
        "    # -----------------------\n",
        "    mu = sum(population)/len(population)\n",
        "    return mu\n",
        "    # -----------------------\n",
        "    # END YOUR CODE\n",
        "\n",
        "\n",
        "def variance(population):\n",
        "    \"\"\"\n",
        "    Compute the variance of population (sigma squared).\n",
        "\n",
        "    Args:\n",
        "        population: a numpy array of numbers of shape [N,]\n",
        "    Returns:\n",
        "        the variance of population\n",
        "    \"\"\"\n",
        "    # Calculate the variance of a population\n",
        "    # BEGIN YOUR CODE\n",
        "    # -----------------------\n",
        "    diff = np.sum((population - mean(population)) ** 2)\n",
        "    sigma_squared = diff / len(population)\n",
        "    return sigma_squared\n",
        "    # -----------------------\n",
        "    # END YOUR CODE"
      ]
    },
    {
      "cell_type": "code",
      "execution_count": null,
      "metadata": {
        "id": "9_8ZpNl1_RuG"
      },
      "outputs": [],
      "source": [
        "population_0 = np.random.randn(100)\n",
        "assert np.isclose(mean(population_0), np.mean(population_0), atol=1e-6)\n",
        "assert np.isclose(variance(population_0), np.var(population_0), atol=1e-6)\n",
        "population_1 = 3 * np.random.randn(100) + 5\n",
        "assert np.isclose(mean(population_1), np.mean(population_1), atol=1e-6)\n",
        "assert np.isclose(variance(population_1), np.var(population_1), atol=1e-6)"
      ]
    },
    {
      "cell_type": "markdown",
      "metadata": {
        "id": "zOdWnvIO_RuG",
        "nbgrader": {
          "grade": false,
          "grade_id": "numpy-and-tables",
          "locked": true,
          "schema_version": 2,
          "solution": false
        }
      },
      "source": [
        "---\n",
        "## NumPy\n",
        "\n",
        "You should be able to understand the code in the following cells. If not, please review the following:\n",
        "\n",
        "* [UC Berkeley DS100 NumPy Review](http://ds100.org/fa17/assets/notebooks/numpy/Numpy_Review.html)\n",
        "* [Stanford Condensed NumPy Review](http://cs231n.github.io/python-numpy-tutorial/#numpy)\n",
        "* [The Official NumPy Tutorial](https://docs.scipy.org/doc/numpy-dev/user/quickstart.html)"
      ]
    },
    {
      "cell_type": "markdown",
      "metadata": {
        "id": "vdWZSQdL_RuG",
        "nbgrader": {
          "grade": false,
          "grade_id": "jupyter-pro-tip",
          "locked": true,
          "schema_version": 2,
          "solution": false
        }
      },
      "source": [
        "**Jupyter pro-tip**: Pull up the docs for any function in Jupyter by running a cell with\n",
        "the function name and a `?` at the end:"
      ]
    },
    {
      "cell_type": "code",
      "execution_count": null,
      "metadata": {
        "id": "RZ2eUv3q_RuH",
        "nbgrader": {
          "grade": false,
          "grade_id": "np-arange-huh",
          "locked": true,
          "schema_version": 2,
          "solution": false
        }
      },
      "outputs": [],
      "source": [
        "np.arange?"
      ]
    },
    {
      "cell_type": "markdown",
      "metadata": {
        "id": "xF_-RxCn_RuH",
        "nbgrader": {
          "grade": false,
          "grade_id": "cell-61d40faa50614fbc",
          "locked": true,
          "schema_version": 2,
          "solution": false
        }
      },
      "source": [
        "You can close the window at the bottom by pressing `esc` several times."
      ]
    },
    {
      "cell_type": "markdown",
      "metadata": {
        "id": "WmVLDI1o_RuH",
        "nbgrader": {
          "grade": false,
          "grade_id": "jupyter-pro-tip-two",
          "locked": true,
          "schema_version": 2,
          "solution": false
        }
      },
      "source": [
        "**Another Jupyter pro-tip**: Pull up the docs for any function in Jupyter by typing the function\n",
        "name, then `<Shift>-<Tab>` on your keyboard. This is super convenient when you forget the order\n",
        "of the arguments to a function. You can press `<Tab>` multiple times to expand the docs and reveal additional information.\n",
        "\n",
        "Try it on the function below:"
      ]
    },
    {
      "cell_type": "code",
      "execution_count": null,
      "metadata": {
        "colab": {
          "base_uri": "https://localhost:8080/"
        },
        "id": "zMiD-oza_RuH",
        "outputId": "8bd56553-1427-49bd-fd29-f572d7adcb3f",
        "scrolled": true
      },
      "outputs": [
        {
          "data": {
            "text/plain": [
              "<function numpy.linspace>"
            ]
          },
          "execution_count": 9,
          "metadata": {},
          "output_type": "execute_result"
        }
      ],
      "source": [
        "np.linspace"
      ]
    },
    {
      "cell_type": "markdown",
      "metadata": {
        "id": "HOcFKfG8_RuH"
      },
      "source": [
        "Now, let's go through some linear algebra coding questions with NumPy. In this question, we'll ask you to use your linear algebra knowledge to fill in NumPy matrices. To conduct matrix multiplication in NumPy, you should write code like the following:"
      ]
    },
    {
      "cell_type": "code",
      "execution_count": null,
      "metadata": {
        "colab": {
          "base_uri": "https://localhost:8080/"
        },
        "id": "dvIvfNpG_RuH",
        "outputId": "7638becd-ad96-4200-a874-242bbada0849"
      },
      "outputs": [
        {
          "output_type": "execute_result",
          "data": {
            "text/plain": [
              "array([[ 76,  82],\n",
              "       [184, 199]])"
            ]
          },
          "metadata": {},
          "execution_count": 4
        }
      ],
      "source": [
        "# A matrix in NumPy is a 2-dimensional NumPy array\n",
        "matA = np.array([\n",
        "    [1, 2, 3],\n",
        "    [4, 5, 6],\n",
        "])\n",
        "\n",
        "matB = np.array([\n",
        "    [10, 11],\n",
        "    [12, 13],\n",
        "    [14, 15],\n",
        "])\n",
        "\n",
        "# The notation B @ v means: compute the matrix multiplication Bv\n",
        "matA @ matB"
      ]
    },
    {
      "cell_type": "markdown",
      "metadata": {
        "id": "ddZ_TU_W_RuH"
      },
      "source": [
        "You can also use the same syntax to do matrix-vector multiplication or vector dot products. Handy!"
      ]
    },
    {
      "cell_type": "code",
      "execution_count": null,
      "metadata": {
        "colab": {
          "base_uri": "https://localhost:8080/"
        },
        "id": "rkLmJnLn_RuI",
        "outputId": "f64276ca-5862-49b5-a8ad-539a0376ca1e"
      },
      "outputs": [
        {
          "output_type": "stream",
          "name": "stdout",
          "text": [
            "[ 76 184]\n",
            "760\n"
          ]
        }
      ],
      "source": [
        "matA = np.array([\n",
        "    [1, 2, 3],\n",
        "    [4, 5, 6],\n",
        "])\n",
        "\n",
        "# A vector in NumPy is simply a 1-dimensional NumPy array\n",
        "some_vec = np.array([ 10, 12, 14, ])\n",
        "another_vec = np.array([ 10, 20, 30 ])\n",
        "\n",
        "print(matA @ some_vec)\n",
        "print(some_vec @ another_vec)"
      ]
    },
    {
      "cell_type": "markdown",
      "metadata": {
        "id": "3AJd5tDA_RuI"
      },
      "source": [
        "## Question 2 (4 pt)\n",
        "### Question 2a\n",
        "\n",
        "Joey, Deb, and Sam are shopping for fruit at K-Bowl. K-Bowl, true to its name, only sells fruit bowls. A fruit bowl contains some fruit and the price of a fruit bowl is the total price of all of its individual fruit.\n",
        "\n",
        "Berkeley Bowl has apples for \\\\$2.00, bananas for \\\\$1.00, and cantaloupes for \\\\$4.00 (expensive!). The price of each of these can be written in a vector:\n",
        "\n",
        "$$\n",
        "v = \\begin{bmatrix}\n",
        "     2 \\\\\n",
        "     1 \\\\\n",
        "     4 \\\\\n",
        "\\end{bmatrix}\n",
        "$$\n",
        "\n",
        "K-Bowl sells the following fruit bowls:\n",
        "\n",
        "1. 2 of each fruit\n",
        "2. 5 apples and 8 bananas\n",
        "3. 2 bananas and 3 cantaloupes\n",
        "4. 10 cantaloupes\n",
        "\n",
        "Create a 2-dimensional numpy array encoding the matrix $B$ such that the matrix-vector multiplication\n",
        "\n",
        "$$\n",
        "Bv\n",
        "$$\n",
        "\n",
        "evaluates to a length 4 column vector containing the price of each fruit bowl. The first entry of the result should be the cost of fruit bowl #1, the second entry the cost of fruit bowl #2, etc.\n",
        "\n",
        "<!--\n",
        "BEGIN QUESTION\n",
        "name: q2a\n",
        "points: 1\n",
        "-->"
      ]
    },
    {
      "cell_type": "code",
      "execution_count": null,
      "metadata": {
        "colab": {
          "base_uri": "https://localhost:8080/"
        },
        "id": "6FjiyVZx_RuI",
        "outputId": "30d7d328-f611-41ac-b00c-c99548e622a9"
      },
      "outputs": [
        {
          "output_type": "execute_result",
          "data": {
            "text/plain": [
              "array([14, 18, 14, 40])"
            ]
          },
          "metadata": {},
          "execution_count": 12
        }
      ],
      "source": [
        "v = np.array([2,1,4])\n",
        "\n",
        "# BEGIN YOUR CODE\n",
        "# -----------------------\n",
        "B = np.array([\n",
        "      [2,2,2],\n",
        "      [5,8,0],\n",
        "      [0,2,3],\n",
        "      [0,0,10]\n",
        "    ])\n",
        "# -----------------------\n",
        "# END YOUR CODE\n",
        "\n",
        "# The notation B @ v means: compute the matrix multiplication Bv\n",
        "B @ v"
      ]
    },
    {
      "cell_type": "code",
      "execution_count": null,
      "metadata": {
        "id": "b5HJilMz_RuI"
      },
      "outputs": [],
      "source": [
        "assert B.shape == (4, 3)\n",
        "assert np.allclose(B @ v, np.array([14, 18, 14, 40]))"
      ]
    },
    {
      "cell_type": "markdown",
      "metadata": {
        "id": "dZSsX8_c_RuI"
      },
      "source": [
        "### Question 2b\n",
        "\n",
        "Joey, Deb, and Sam make the following purchases:\n",
        "\n",
        "- Joey buys 2 fruit bowl #1s and 1 fruit bowl #2.\n",
        "- Deb buys 1 of each fruit bowl.\n",
        "- Sam buys 10 fruit bowl #4s (he really like cantaloupes).\n",
        "\n",
        "Create a matrix $A$ such that the matrix expression\n",
        "\n",
        "$$\n",
        "ABv\n",
        "$$\n",
        "\n",
        "evaluates to a length 3 column vector containing how much each of them spent. The first entry of the result should be the total amount spent by Joey, the second entry the amount sent by Deb, etc.\n",
        "\n",
        "Note that the tests for this question do not tell you whether your answer is correct. That's up to you to determine.\n",
        "\n",
        "<!--\n",
        "BEGIN QUESTION\n",
        "name: q2b\n",
        "points: 1\n",
        "-->"
      ]
    },
    {
      "cell_type": "code",
      "execution_count": null,
      "metadata": {
        "colab": {
          "base_uri": "https://localhost:8080/"
        },
        "id": "4SnZXqxi_RuI",
        "outputId": "e28dd793-2229-49c1-814d-91dd0555254c"
      },
      "outputs": [
        {
          "output_type": "execute_result",
          "data": {
            "text/plain": [
              "array([ 46,  86, 400])"
            ]
          },
          "metadata": {},
          "execution_count": 10
        }
      ],
      "source": [
        "A = np.array([\n",
        "    [2, 1, 0, 0],\n",
        "    # Finish this!\n",
        "    # BEGIN YOUR CODE\n",
        "    # -----------------------\n",
        "    [1, 1, 1, 1],\n",
        "    [0, 0, 0, 10]\n",
        "    # -----------------------\n",
        "    # END YOUR CODE\n",
        "])\n",
        "\n",
        "A @ B @ v"
      ]
    },
    {
      "cell_type": "code",
      "execution_count": null,
      "metadata": {
        "id": "iGeRVHYF_RuI"
      },
      "outputs": [],
      "source": [
        "assert A.shape == (3, 4)\n",
        "assert np.allclose(A @ B @ v , np.array([ 46,  86, 400]))"
      ]
    },
    {
      "cell_type": "markdown",
      "metadata": {
        "id": "RmB_m3AP_RuI"
      },
      "source": [
        "### Question 2c\n",
        "\n",
        "Who spent the most money? Assign `most` to a string containing the name of this person.\n",
        "\n",
        "<!--\n",
        "BEGIN QUESTION\n",
        "name: q2c\n",
        "points: 1\n",
        "-->"
      ]
    },
    {
      "cell_type": "code",
      "execution_count": null,
      "metadata": {
        "id": "K5LW-fUJ_RuJ"
      },
      "outputs": [],
      "source": [
        "# BEGIN YOUR CODE\n",
        "# -----------------------\n",
        "most = \"Sam\"\n",
        "# -----------------------\n",
        "# END YOUR CODE"
      ]
    },
    {
      "cell_type": "code",
      "execution_count": null,
      "metadata": {
        "id": "IleUqox3_RuJ"
      },
      "outputs": [],
      "source": [
        "assert most in [\"Joey\", \"Deb\", \"Sam\"]"
      ]
    },
    {
      "cell_type": "markdown",
      "metadata": {
        "id": "l1hb2gBr_RuJ"
      },
      "source": [
        "### Question 2d\n",
        "\n",
        "Let's suppose K-Bowl changes their fruit prices, but you don't know what they changed their prices to. Joey, Deb, and Sam buy the same quantity of fruit baskets and the number of fruit in each basket is the same, but now they each spent these amounts:\n",
        "\n",
        "$$\n",
        "x = \\begin{bmatrix}\n",
        "    80 \\\\\n",
        "    80 \\\\\n",
        "    100 \\\\\n",
        "\\end{bmatrix}\n",
        "$$\n",
        "\n",
        "Use `np.linalg.inv` and the above final costs to compute the new prices for the individual fruits as a vector called `new_v`.\n",
        "\n",
        "<!--\n",
        "BEGIN QUESTION\n",
        "name: q2d\n",
        "points: 1\n",
        "-->"
      ]
    },
    {
      "cell_type": "code",
      "execution_count": null,
      "metadata": {
        "colab": {
          "base_uri": "https://localhost:8080/"
        },
        "id": "zhgI6p7c_RuJ",
        "outputId": "8ab2ce50-d0d6-40d0-a092-2731415f9c3b"
      },
      "outputs": [
        {
          "output_type": "execute_result",
          "data": {
            "text/plain": [
              "array([5.5       , 2.20833333, 1.        ])"
            ]
          },
          "metadata": {},
          "execution_count": 21
        }
      ],
      "source": [
        "# BEGIN YOUR CODE\n",
        "# -----------------------\n",
        "new_v =np.linalg.inv(A @ B) @ np.array([80, 80, 100])\n",
        "# -----------------------\n",
        "# END YOUR CODE\n",
        "new_v"
      ]
    },
    {
      "cell_type": "code",
      "execution_count": null,
      "metadata": {
        "id": "traPe2Dj_RuJ"
      },
      "outputs": [],
      "source": [
        "assert new_v.shape == (3,)\n",
        "assert np.allclose(new_v, np.array([ 5.5,  2.20833333, 1.]))"
      ]
    },
    {
      "cell_type": "markdown",
      "metadata": {
        "id": "8TYm8Wvz_RuJ",
        "nbgrader": {
          "grade": false,
          "grade_id": "mv-calc",
          "locked": true,
          "schema_version": 2,
          "solution": false
        }
      },
      "source": [
        "---\n",
        "## Multivariable Calculus, Linear Algebra, and Probability\n",
        "\n",
        "The following questions ask you to recall your knowledge of multivariable calculus, linear algebra, and probability. We will use some of the most fundamental concepts from each discipline in this class, so the following problems should at least seem familiar to you.\n",
        "\n",
        "If you have trouble with these topics, we suggest reviewing:\n",
        "\n",
        "- [Khan Academy's Multivariable Calculus](https://www.khanacademy.org/math/multivariable-calculus)\n",
        "- [Khan Academy's Linear Algebra](https://www.khanacademy.org/math/linear-algebra)\n",
        "- [Khan Academy's Statistics and Probability](https://www.khanacademy.org/math/statistics-probability)\n",
        "\n",
        "\n",
        "#### LaTeX\n",
        "\n",
        "For the following problems, you should use LaTeX to format your answer. If you aren't familiar with LaTeX, not to worry. It's not hard to use in a Jupyter notebook. Just place your math in between dollar signs:\n",
        "\n",
        "\\\\$ f(x) = 2x \\\\$ becomes $ f(x) = 2x $.\n",
        "\n",
        "If you have a longer equation, use double dollar signs to place it on a line by itself:\n",
        "\n",
        "\\\\$\\\\$ \\sum_{i=0}^n i^2 \\\\$\\\\$ becomes:\n",
        "\n",
        "$$ \\sum_{i=0}^n i^2 $$.\n",
        "\n",
        "Here is some handy notation:\n",
        "\n",
        "| Output | Latex   |\n",
        "|:---|:---|\n",
        "| $$x^{a + b}$$  | `x^{a + b}` |\n",
        "| $$x_{a + b}$$ | `x_{a + b}` |\n",
        "| $$\\frac{a}{b}$$ | `\\frac{a}{b}` |\n",
        "| $$\\sqrt{a + b}$$ | `\\sqrt{a + b}` |\n",
        "| $$\\{ \\alpha, \\beta, \\gamma, \\pi, \\mu, \\sigma^2  \\}$$ | `\\{ \\alpha, \\beta, \\gamma, \\pi, \\mu, \\sigma^2  \\}` |\n",
        "| $$\\sum_{x=1}^{100}$$ | `\\sum_{x=1}^{100}` |\n",
        "| $$\\frac{\\partial}{\\partial x} $$ | `\\frac{\\partial}{\\partial x} ` |\n",
        "| $$\\begin{bmatrix} 2x + 4y \\\\ 4x + 6y^2 \\\\ \\end{bmatrix}$$ | `\\begin{bmatrix} 2x + 4y \\\\ 4x + 6y^2 \\\\ \\end{bmatrix}`|\n",
        "\n",
        "\n",
        "\n",
        "[For more about basic LaTeX formatting, you can read this article.](https://www.sharelatex.com/learn/Mathematical_expressions)"
      ]
    },
    {
      "cell_type": "code",
      "source": [],
      "metadata": {
        "id": "_tFpIGpSUXJY"
      },
      "execution_count": null,
      "outputs": []
    },
    {
      "cell_type": "markdown",
      "metadata": {
        "id": "nQX9l4P6_RuJ",
        "nbgrader": {
          "grade": false,
          "grade_id": "question-4c-x",
          "locked": true,
          "schema_version": 2,
          "solution": false
        },
        "tags": [
          "written"
        ]
      },
      "source": [
        "### Question 3a (4 pt)\n",
        "\n",
        "Suppose we have the following scalar-valued function:\n",
        "\n",
        "$$ f(x, y) = x^2 + 4xy + 2y^3 + e^{-3y} + \\ln(2y) $$\n",
        "\n",
        "Compute the partial derivative $\\frac{\\partial}{\\partial x} f(x,y)$:\n",
        "\n",
        "<!--\n",
        "BEGIN QUESTION\n",
        "name: q4ai\n",
        "manual: true\n",
        "points: 1\n",
        "-->\n",
        "<!-- EXPORT TO PDF -->"
      ]
    },
    {
      "cell_type": "markdown",
      "metadata": {
        "id": "4mAeiQYs_RuJ"
      },
      "source": [
        "Answer: $$ 2x+4y $$"
      ]
    },
    {
      "cell_type": "markdown",
      "metadata": {
        "id": "nuqLPd-4_RuJ",
        "nbgrader": {
          "grade": false,
          "grade_id": "question4c-y",
          "locked": true,
          "schema_version": 2,
          "solution": false
        },
        "tags": [
          "written"
        ]
      },
      "source": [
        "Now compute the partial derivative $\\frac{\\partial}{\\partial y} f(x,y)$:\n",
        "\n",
        "<!--\n",
        "BEGIN QUESTION\n",
        "name: q4aii\n",
        "manual: true\n",
        "points: 1\n",
        "-->\n",
        "<!-- EXPORT TO PDF -->"
      ]
    },
    {
      "cell_type": "markdown",
      "metadata": {
        "id": "0LjaF5HK_RuJ"
      },
      "source": [
        "Answer: $$ 4x+6y^{2}-3e^{-3y}+\\frac{1}{y} $$"
      ]
    },
    {
      "cell_type": "markdown",
      "metadata": {
        "id": "6AyIfI4Z_RuJ"
      },
      "source": [
        "Finally, using your answers to the above two parts, compute $\\nabla f(x, y)$. Also what is the gradient at the point (x, y) = (2, -1):\n",
        "\n",
        "Note that $\\nabla$ represents the gradient.\n",
        "\n",
        "<!--\n",
        "BEGIN QUESTION\n",
        "name: q4aiii\n",
        "manual: true\n",
        "points: 1\n",
        "-->\n",
        "<!-- EXPORT TO PDF -->"
      ]
    },
    {
      "cell_type": "markdown",
      "metadata": {
        "id": "73z9A9C8_RuK"
      },
      "source": [
        "Answer: $$ (2x+4y,4x+6y^{2}-3e^{-3y}+\\frac{1}{y}) $$\n",
        "$$ (0, 13-3e^{-3}) $$"
      ]
    },
    {
      "cell_type": "markdown",
      "metadata": {
        "id": "7sOdAmSZ_RuK",
        "nbgrader": {
          "grade": false,
          "grade_id": "question-4d",
          "locked": true,
          "schema_version": 2,
          "solution": false
        }
      },
      "source": [
        "### Question 3b (2 pt)\n",
        "\n",
        "Find the value(s) of $x$ which minimizes the expression below. Justify why it is the minimum.\n",
        "\n",
        "$\\sum_{i=1}^{10} (i - x)^2$\n",
        "\n",
        "<!--\n",
        "BEGIN QUESTION\n",
        "name: q4b\n",
        "manual: true\n",
        "points: 2\n",
        "-->\n",
        "<!-- EXPORT TO PDF -->"
      ]
    },
    {
      "cell_type": "markdown",
      "metadata": {
        "id": "E0I5qL6T_RuK"
      },
      "source": [
        "Answer: $$ f(x) = \\sum_{i=1}^{10} (i - x)^2라고\\ 하면,\n",
        "\\\\f(x)=\\sum_{i=1}^{10}i^{2}-2x\\sum_{i=1}^{10}i+10x^{2}\n",
        "\\\\=\\sum_{i=1}^{10}i^{2}-110x+10x^{2}\n",
        "\\\\f'(x)=-110+20x\n",
        "\\\\ \\therefore x=5.5일때\\ 최소이다 $$"
      ]
    },
    {
      "cell_type": "markdown",
      "metadata": {
        "id": "BywMszEm_RuK",
        "nbgrader": {
          "grade": false,
          "grade_id": "question-4e",
          "locked": true,
          "schema_version": 2,
          "solution": false
        }
      },
      "source": [
        "### Question 4a (2 pt)\n",
        "Let $\\sigma(x) = \\dfrac{1}{1+e^{-x}}$.\n",
        "\n",
        "Show that $\\sigma(-x) = 1 - \\sigma(x)$.\n",
        "\n",
        "<!--\n",
        "BEGIN QUESTION\n",
        "name: q4c\n",
        "manual: true\n",
        "points: 2\n",
        "-->\n",
        "<!-- EXPORT TO PDF -->"
      ]
    },
    {
      "cell_type": "markdown",
      "metadata": {
        "id": "u8sYPNx3_RuK"
      },
      "source": [
        "Answer: $$\n",
        "\\sigma(-x)=\\dfrac{1}{1+e^{x}}\n",
        "\\\\ 1 - \\sigma(x)=1-\\dfrac{1}{1+e^{-x}}\n",
        "\\\\ = \\dfrac{1+e^{-x}-1}{1+e^{-x}}\n",
        "\\\\ = \\dfrac{e^{-x}}{1+e^{-x}}\n",
        "\\\\ = \\dfrac{1}{1+e^{x}}\n",
        "\\\\ \\therefore \\sigma(-x) = 1 - \\sigma(x)\n",
        "$$"
      ]
    },
    {
      "cell_type": "markdown",
      "metadata": {
        "id": "l3HgSsTp_RuK",
        "nbgrader": {
          "grade": false,
          "grade_id": "question-4e-b",
          "locked": true,
          "schema_version": 2,
          "solution": false
        }
      },
      "source": [
        "### Question 4b (2 pt)\n",
        "Show that the derivative can be written as:\n",
        "\n",
        "$$\\frac{d}{dx}\\sigma(x) = \\sigma(x)(1 - \\sigma(x))$$\n",
        "\n",
        "<!--\n",
        "BEGIN QUESTION\n",
        "name: q4d\n",
        "manual: true\n",
        "points: 2\n",
        "-->\n",
        "<!-- EXPORT TO PDF -->"
      ]
    },
    {
      "cell_type": "markdown",
      "metadata": {
        "id": "HNmHC-IQ_RuK"
      },
      "source": [
        "Answer: $$\n",
        "\\frac{d}{dx}\\sigma(x) = \\frac{e^{-x}}{{(1+e^{-x})}^{2}}\n",
        "\\\\ \\sigma(x)(1-\\sigma(x)) = (\\dfrac{1}{1+e^{-x}})(\\dfrac{e^{-x}}{1+e^{-x}})\n",
        "\\\\=\\frac{e^{-x}}{{(1+e^{-x})}^{2}}\n",
        "\\\\ \\therefore \\frac{d}{dx}\\sigma(x) = \\sigma(x)(1 - \\sigma(x))\n",
        "$$"
      ]
    },
    {
      "cell_type": "markdown",
      "metadata": {
        "id": "2Bhe5FBC_RuK",
        "nbgrader": {
          "grade": false,
          "grade_id": "question-4h",
          "locked": true,
          "schema_version": 2,
          "solution": false
        }
      },
      "source": [
        "### Question 5 (2 pt)\n",
        "\n",
        "Consider the following scenario:\n",
        "\n",
        "Only 1% of 40-year-old women who participate in a routine mammography test have breast cancer. 80% of women who have breast cancer will test positive, but 9.6% of women who don’t have breast cancer will also get positive tests.\n",
        "\n",
        "Suppose we know that a woman of this age tested positive in a routine screening. What is the probability that she actually has breast cancer?\n",
        "\n",
        "**Hint:** Use Bayes' rule.\n",
        "\n",
        "<!--\n",
        "BEGIN QUESTION\n",
        "name: q5\n",
        "manual: true\n",
        "points: 2\n",
        "-->\n",
        "<!-- EXPORT TO PDF -->"
      ]
    },
    {
      "cell_type": "markdown",
      "metadata": {
        "id": "QK7h4BjZ_RuM"
      },
      "source": [
        "Answer: $$\n",
        "P(A|B)=\\frac{P(B|A)P(A)}{P(B)}\n",
        "\\\\A:암이 있을 확률\n",
        "\\\\B:positive일 확률\n",
        "\\\\P(A)=0.01\n",
        "\\\\P(B)=(0.01)(0.8)+(0.096)(0.99)=0.008+0.09504\n",
        "\\\\=0.10304\n",
        "\\\\P(B∣A)=0.80 (유방암 환자가 양성 판정을 받을 확률)\n",
        "\\\\ P(A|B) = \\frac{0.8 * 0.01}{0.10304} \\approx 0.0776\n",
        "\\\\ \\therefore 약\\ 7.76\\%\n",
        "$$"
      ]
    },
    {
      "cell_type": "markdown",
      "metadata": {
        "id": "1g-fqxpv_RuM"
      },
      "source": [
        "### Question 6\n",
        "\n",
        "Consider (once again) a sample of size n drawn at random with replacement from a population in which a proportion p of the individuals are called successes.\n",
        "\n",
        "Let S be the random variable that denotes the number of successes in our sample. Then, the probability that the number of successes in our sample is **at most** s (where $0 \\leq s \\leq n$) is\n",
        "\n",
        "$$P(S \\leq s) = P(S = 0) + P(S = 1) + ... + P(S = s) = \\sum_{k=0}^s \\binom{n}{k}p^k(1-p)^{n-k}$$\n",
        "\n",
        "We obtain this by summing the probability that the number of successes is exactly k, for each value of $k = 0, 1, 2, ..., s$."
      ]
    },
    {
      "cell_type": "markdown",
      "metadata": {
        "id": "l6uc6WWV_RuM"
      },
      "source": [
        "### Question 6a (2pt)\n",
        "\n",
        "Please fill in the function `prob_at_most` which takes n, p, and s and returns $P(S \\le s)$ as defined above. If the inputs are invalid: for instance, if p > 1 or s > n then return 0.\"\n",
        "\n",
        "**Hint**: One way to compute the binomial coefficients is to use SciPy module, which is a collection of Python-based software for math, probability, statistics, science, and enginnering. Feel free to use [scipy.special.comb](https://docs.scipy.org/doc/scipy/reference/generated/scipy.special.comb.html#scipy.special.comb)**\n",
        "\n",
        "<!--\n",
        "BEGIN QUESTION\n",
        "name: q6a\n",
        "manual: false\n",
        "points: 1\n",
        "-->"
      ]
    },
    {
      "cell_type": "code",
      "execution_count": null,
      "metadata": {
        "id": "4lxlowgE_RuM"
      },
      "outputs": [],
      "source": [
        "from scipy import special\n",
        "\n",
        "def prob_at_most(n, p, s):\n",
        "    \"\"\"\n",
        "    returns the probability of S <= s\n",
        "    Input n: sample size; p : proportion; s: number of successes at most\n",
        "    \"\"\"\n",
        "    if p > 1 or s > n:\n",
        "        return 0\n",
        "\n",
        "    # BEGIN YOUR CODE\n",
        "    # -----------------------\n",
        "    all_probs=[]\n",
        "    for k in range(s + 1):\n",
        "      all_probs.append(special.comb(n, k) * pow(p,k) * pow(1-p, n-k))\n",
        "    # -----------------------\n",
        "    # END YOUR CODE\n",
        "\n",
        "    return sum(all_probs[:s+1])"
      ]
    },
    {
      "cell_type": "code",
      "execution_count": null,
      "metadata": {
        "id": "Qv50d2Sp_RuN"
      },
      "outputs": [],
      "source": [
        "assert prob_at_most(3, 0.4, 1) >= 0\n",
        "assert prob_at_most(5, 0.6, 3) <= 1\n",
        "assert prob_at_most(2, 3, 4) == 0"
      ]
    },
    {
      "cell_type": "markdown",
      "metadata": {
        "id": "NDoksoi1_RuN"
      },
      "source": [
        "### Question 6b (1pt)\n",
        "\n",
        "In an election, supporters of Candidate C are in a minority. Only 45% of the voters in the population favor the candidate.\n",
        "\n",
        "Suppose a survey organization takes a sample of 200 voters at random with replacement from this population. Use `prob_at_most` to write an expression that evaluates to the chance that a majority (more than half) of the sampled voters favor Candidate C.\n",
        "\n",
        "<!--\n",
        "BEGIN QUESTION\n",
        "name: q6b\n",
        "manual: false\n",
        "points: 1\n",
        "-->"
      ]
    },
    {
      "cell_type": "code",
      "execution_count": null,
      "metadata": {
        "colab": {
          "base_uri": "https://localhost:8080/"
        },
        "id": "r8c5WGH8_RuN",
        "outputId": "1c948159-a6ee-40e3-b65d-0b7d9537fa80"
      },
      "outputs": [
        {
          "output_type": "execute_result",
          "data": {
            "text/plain": [
              "0.06807524986263847"
            ]
          },
          "metadata": {},
          "execution_count": 22
        }
      ],
      "source": [
        "# BEGIN YOUR CODE\n",
        "# -----------------------\n",
        "p_majority = 1 - prob_at_most(200, 0.45, 100)\n",
        "# -----------------------\n",
        "# END YOUR CODE\n",
        "p_majority"
      ]
    },
    {
      "cell_type": "code",
      "execution_count": null,
      "metadata": {
        "id": "gEy-cYZH_RuN"
      },
      "outputs": [],
      "source": [
        "assert p_majority >= 0 and p_majority <= 1"
      ]
    },
    {
      "cell_type": "markdown",
      "metadata": {
        "id": "PXhB9T71_RuN"
      },
      "source": [
        "### Question 6c (1pt)\n",
        "\n",
        "Suppose each of five survey organizations takes a sample of voters at random with replacement from the population of voters in Part **b**, independently of the samples drawn by the other organizations.\n",
        "\n",
        "- Three of the organizations use a sample size of 200\n",
        "- One organization uses a sample size of 300\n",
        "- One organization uses a sample size of 400\n",
        "\n",
        "Write an expression that evaluates to the chance that in at least one of the five samples the majority of voters favor Candidate C. You can use any quantity or function defined earlier in this exercise.\n",
        "\n",
        "<!--\n",
        "BEGIN QUESTION\n",
        "name: q6c\n",
        "manual: false\n",
        "points: 2\n",
        "-->"
      ]
    },
    {
      "cell_type": "code",
      "execution_count": null,
      "metadata": {
        "colab": {
          "base_uri": "https://localhost:8080/"
        },
        "id": "dTJpTIhX_RuN",
        "outputId": "aff46798-6c82-4646-a947-90f5864fa933"
      },
      "outputs": [
        {
          "output_type": "execute_result",
          "data": {
            "text/plain": [
              "0.23550361568442357"
            ]
          },
          "metadata": {},
          "execution_count": 23
        }
      ],
      "source": [
        "# BEGIN YOUR CODE\n",
        "# -----------------------\n",
        "prob_6c = 1 - pow(prob_at_most(200, 0.45, 100), 3) * prob_at_most(300, 0.45, 150) * prob_at_most(400, 0.45, 200)\n",
        "# -----------------------\n",
        "# END YOUR CODE\n",
        "prob_6c"
      ]
    },
    {
      "cell_type": "code",
      "execution_count": null,
      "metadata": {
        "id": "oJSZSoLA_RuN"
      },
      "outputs": [],
      "source": [
        "assert prob_6c >= 0 and prob_6c <= 1"
      ]
    },
    {
      "cell_type": "markdown",
      "metadata": {
        "id": "jqyAmp1P_RuN"
      },
      "source": [
        "## The US Presidential Election\n",
        "\n",
        "The US president is chosen by the Electoral College, not by the\n",
        "popular vote. Each state is alotted a certain number of\n",
        "electoral college votes, as a function of their population.\n",
        "Whomever wins in the state gets all of the electoral college votes for that state.\n",
        "\n",
        "There are 538 electoral college votes (hence the name of the Nate Silver's site, FiveThirtyEight).\n",
        "\n",
        "Pollsters correctly predicted the election outcome in 46 of the 50 states.\n",
        "For these 46 states Trump received 231 and Clinton received 232 electoral college votes.\n",
        "\n",
        "The remaining 4 states accounted for a total of 75 votes, and\n",
        "whichever candidate received the majority of the electoral college votes in these states would win the election.\n",
        "\n",
        "These states were Florida, Michigan, Pennsylvania, and Wisconsin.\n",
        "\n",
        "|State |Electoral College Votes|\n",
        "| --- | --- |\n",
        "|Florida | 29 |\n",
        "|Michigan | 16 |\n",
        "|Pennsylvania | 20 |\n",
        "|Wisconsin | 10|\n",
        "\n",
        "For Donald Trump to win the election, he had to win either:\n",
        "* Florida + one (or more) other states\n",
        "* Michigan, Pennsylvania, and Wisconsin\n",
        "\n",
        "\n",
        "The electoral margins were very narrow in these four states, as seen below:\n",
        "\n",
        "\n",
        "|State | Trump |   Clinton | Total Voters |\n",
        "| --- | --- |  --- |  --- |\n",
        "|Florida | 49.02 | 47.82 | 9,419,886  |\n",
        "|Michigan | 47.50 | 47.27  |  4,799,284|\n",
        "|Pennsylvania | 48.18 | 47.46 |  6,165,478|\n",
        "|Wisconsin | 47.22 | 46.45  |  2,976,150|\n",
        "\n",
        "Those narrow electoral margins can make it hard to predict the outcome given the sample sizes that the polls used."
      ]
    },
    {
      "cell_type": "markdown",
      "metadata": {
        "id": "Y0HKrHZV_RuN"
      },
      "source": [
        "### Question 7a (1pt)\n",
        "\n",
        "For your convenience, the results of the vote in the four pivotal states is repeated below:\n",
        "\n",
        "|State | Trump |   Clinton | Total Voters |\n",
        "| --- | --- |  --- |  --- |\n",
        "|Florida | 49.02 | 47.82 | 9,419,886  |\n",
        "|Michigan | 47.50 | 47.27  |  4,799,284|\n",
        "|Pennsylvania | 48.18 | 47.46 |  6,165,478|\n",
        "|Wisconsin | 47.22 | 46.45  |  2,976,150|\n",
        "\n",
        "\n",
        "Using the table above, write a function `draw_state_sample(N, state)` that returns a sample with replacement of N voters from the given state. Your result should be returned as a list, where the first element is the number of Trump votes, the second element is the number of Clinton votes, and the third is the number of Other votes. For example, `draw_state_sample(1500, \"florida\")` could return `[727, 692, 81]`. You may assume that the state name is given in all lower case.\n",
        "\n",
        "You might find `np.random.multinomial` useful.\n",
        "\n",
        "<!--\n",
        "BEGIN QUESTION\n",
        "name: q6a\n",
        "points: 2\n",
        "-->"
      ]
    },
    {
      "cell_type": "code",
      "execution_count": null,
      "metadata": {
        "id": "NmyCmncB_RuN"
      },
      "outputs": [],
      "source": [
        "def draw_state_sample(N, state):\n",
        "    # BEGIN YOUR CODE\n",
        "    # -----------------------\n",
        "    state_probabilities = {\n",
        "      \"florida\": [0.4902, 0.4782, 1 - 0.4902 - 0.4782],\n",
        "      \"michigan\": [0.4750, 0.4727, 1 - 0.4750 - 0.4727],\n",
        "      \"pennsylvania\": [0.4818, 0.4746, 1 - 0.4818 - 0.4746],\n",
        "      \"wisconsin\": [0.4722, 0.4645, 1 - 0.4722 - 0.4645]\n",
        "    }\n",
        "    probabilities = state_probabilities[state]\n",
        "    sample = np.random.multinomial(N, probabilities)\n",
        "\n",
        "    return sample\n",
        "    # -----------------------\n",
        "    # END YOUR CODE"
      ]
    },
    {
      "cell_type": "code",
      "execution_count": null,
      "metadata": {
        "colab": {
          "base_uri": "https://localhost:8080/"
        },
        "id": "ZSEFBvbU_RuN",
        "outputId": "edcb5de2-6c3b-4f71-bb9e-abb1c3c69a5f"
      },
      "outputs": [
        {
          "output_type": "execute_result",
          "data": {
            "text/plain": [
              "True"
            ]
          },
          "metadata": {},
          "execution_count": 28
        }
      ],
      "source": [
        "assert len(draw_state_sample(1500, \"florida\")) == 3\n",
        "assert sum(draw_state_sample(1500, \"michigan\")) == 1500\n",
        "q7a_penn = draw_state_sample(1500, \"pennsylvania\")\n",
        "trump_win_penn = (q7a_penn[0] - q7a_penn[1]) / 1500\n",
        "abs(trump_win_penn - 0.007) <= 0.12"
      ]
    },
    {
      "cell_type": "markdown",
      "metadata": {
        "id": "Xzml6JxB_RuN"
      },
      "source": [
        "### Question 7b (1pt)\n",
        "\n",
        "Now, create a function `trump_advantage` that takes in a sample of votes (like the one returned by `draw_state_sample`) and returns the difference in the proportion of votes between Trump and Clinton. For example `trump_advantage([100, 60, 40])` would return `0.2`, since Trump had 50% of the votes in this sample and Clinton had 30%.\n",
        "\n",
        "<!--\n",
        "BEGIN QUESTION\n",
        "name: q6b\n",
        "points: 1\n",
        "-->"
      ]
    },
    {
      "cell_type": "code",
      "execution_count": null,
      "metadata": {
        "id": "e_vYNELE_RuN"
      },
      "outputs": [],
      "source": [
        "def trump_advantage(voter_sample):\n",
        "    # BEGIN YOUR CODE\n",
        "    # -----------------------\n",
        "    trump_sample = voter_sample[0]\n",
        "    clinton_sample = voter_sample[1]\n",
        "    trump_advan_sample = trump_sample - clinton_sample\n",
        "    return trump_advan_sample / sum(voter_sample)\n",
        "    # -----------------------\n",
        "    # END YOUR CODE"
      ]
    },
    {
      "cell_type": "code",
      "execution_count": null,
      "metadata": {
        "id": "eDj4Qu4l_RuO"
      },
      "outputs": [],
      "source": [
        "assert -1 < trump_advantage(draw_state_sample(1500, \"wisconsin\")) < 1\n",
        "assert np.isclose(trump_advantage([100, 60, 40]), 0.2)\n",
        "assert np.isclose(trump_advantage([10, 30, 10]), -0.4)"
      ]
    },
    {
      "cell_type": "markdown",
      "metadata": {
        "id": "t8s_1C8n_RuO"
      },
      "source": [
        "### Question 7c (1pt)\n",
        "\n",
        "Simulate Trump's advantage across 100,000 samples of 1500 voters for the state of Pennsylvania and store the results of each simulation in a list called `simulations`.\n",
        "\n",
        "That is, `simulations[i]` should be Trump's proportion advantage for the `i+1`th simple random sample.\n",
        "\n",
        "<!--\n",
        "BEGIN QUESTION\n",
        "name: q6c\n",
        "points: 1\n",
        "-->"
      ]
    },
    {
      "cell_type": "code",
      "execution_count": null,
      "metadata": {
        "id": "15lwF7LD_RuO"
      },
      "outputs": [],
      "source": [
        "# BEGIN YOUR CODE\n",
        "# -----------------------\n",
        "simulations = []\n",
        "for _ in range(100000):\n",
        "  sample = draw_state_sample(1500, \"pennsylvania\")\n",
        "  simulations.append(trump_advantage(sample))\n",
        "# -----------------------\n",
        "# END YOUR CODE"
      ]
    },
    {
      "cell_type": "code",
      "execution_count": null,
      "metadata": {
        "id": "OhP9qhP8_RuO"
      },
      "outputs": [],
      "source": [
        "assert len(simulations) == 100000\n",
        "assert sum([-1 < x < 1 for x in simulations]) == len(simulations)\n",
        "assert abs(np.mean(simulations) - 0.007) <= 0.016"
      ]
    },
    {
      "cell_type": "markdown",
      "metadata": {
        "id": "ehp6OBjo_RuO"
      },
      "source": [
        "<!-- END QUESTION -->\n",
        "\n",
        "### Question 7d (1pt)\n",
        "\n",
        "Now write a function `trump_wins(N)` that creates a sample of N voters for each of the four crucial states (Florida, Michigan, Pennsylvania, and Wisconsin) and returns 1 if Trump is predicted to win based on these samples and 0 if Trump is predicted to lose.\n",
        "\n",
        "Recall that for Trump to win the election, he must either:\n",
        "* Win the state of Florida and 1 or more other states\n",
        "* Win Michigan, Pennsylvania, and Wisconsin\n",
        "\n",
        "<!--\n",
        "BEGIN QUESTION\n",
        "name: q6e\n",
        "manual: false\n",
        "points: 2\n",
        "-->"
      ]
    },
    {
      "cell_type": "code",
      "execution_count": null,
      "metadata": {
        "id": "8fF6m2mV_RuO"
      },
      "outputs": [],
      "source": [
        "def trump_wins(N):\n",
        "    # BEGIN YOUR CODE\n",
        "    # -----------------------\n",
        "    florida_sample = draw_state_sample(N, \"florida\")\n",
        "    michigan_sample = draw_state_sample(N, \"michigan\")\n",
        "    pennsylvania_sample = draw_state_sample(N, \"pennsylvania\")\n",
        "    wisconsin_sample = draw_state_sample(N, \"wisconsin\")\n",
        "\n",
        "    florida_advantage = trump_advantage(florida_sample)\n",
        "    michigan_advantage = trump_advantage(michigan_sample)\n",
        "    pennsylvania_advantage = trump_advantage(pennsylvania_sample)\n",
        "    wisconsin_advantage = trump_advantage(wisconsin_sample)\n",
        "\n",
        "    if (florida_advantage > 0 and (michigan_advantage > 0 or pennsylvania_advantage > 0 or wisconsin_advantage > 0)) or \\\n",
        "       (michigan_advantage > 0 and pennsylvania_advantage > 0 and wisconsin_advantage > 0):\n",
        "        return 1  # Trump wins\n",
        "    else:\n",
        "        return 0  # Trump loses\n",
        "    # -----------------------\n",
        "    # END YOUR CODE"
      ]
    },
    {
      "cell_type": "code",
      "execution_count": null,
      "metadata": {
        "id": "WMAGKFAy_RuO"
      },
      "outputs": [],
      "source": [
        "assert trump_wins(1000) in [0, 1]"
      ]
    },
    {
      "cell_type": "markdown",
      "metadata": {
        "id": "nGk8DmCm_RuO"
      },
      "source": [
        "### Question 7e\n",
        "\n",
        "If we repeat 100,000 simulations of the election, i.e. we call `trump_wins(1500)` 100,000 times, what proportion of these simulations predict a Trump victory? Give your answer as `proportion_trump`.\n",
        "\n",
        "This number represents the percent chance that a given sample will correctly predict Trump's victory *even if the sample was collected with absolutely no bias*.\n",
        "\n",
        "<!--\n",
        "BEGIN QUESTION\n",
        "name: q6f\n",
        "manual: false\n",
        "points: 1\n",
        "-->"
      ]
    },
    {
      "cell_type": "code",
      "execution_count": null,
      "metadata": {
        "colab": {
          "base_uri": "https://localhost:8080/"
        },
        "id": "KGJXavS0_RuO",
        "outputId": "e0020b1d-a27f-4d29-a994-1506c82d30f1"
      },
      "outputs": [
        {
          "output_type": "execute_result",
          "data": {
            "text/plain": [
              "0.69211"
            ]
          },
          "metadata": {},
          "execution_count": 15
        }
      ],
      "source": [
        "# BEGIN YOUR CODE\n",
        "# -----------------------\n",
        "proportion_trump = sum(trump_wins(1500) for _ in range(100000)) / 100000\n",
        "# -----------------------\n",
        "# END YOUR CODE\n",
        "proportion_trump"
      ]
    },
    {
      "cell_type": "code",
      "execution_count": null,
      "metadata": {
        "id": "xkbp-XXm_RuO"
      },
      "outputs": [],
      "source": [
        "assert 0 < proportion_trump < 1\n",
        "assert abs(proportion_trump - 0.695) <= 0.02"
      ]
    },
    {
      "cell_type": "markdown",
      "metadata": {
        "id": "rxtGrJHs_RuO"
      },
      "source": [
        "### Congratulations! You have completed HW1.\n",
        "\n",
        "Make sure you have run all cells in your notebook in order before running the cell below, so that all images/graphs appear in the output.,\n",
        "\n",
        "**Please save before submitting!**"
      ]
    },
    {
      "cell_type": "markdown",
      "metadata": {
        "id": "tc6M7Hrl_RuO"
      },
      "source": [
        "Please generate pdf as follows and submit it to Gradescope.\n",
        "\n",
        "**File > Print Preview > Print > Save as pdf**"
      ]
    }
  ],
  "metadata": {
    "celltoolbar": "Create Assignment",
    "colab": {
      "collapsed_sections": [
        "1g-fqxpv_RuM"
      ],
      "provenance": []
    },
    "kernelspec": {
      "display_name": "Python 3",
      "language": "python",
      "name": "python3"
    },
    "language_info": {
      "codemirror_mode": {
        "name": "ipython",
        "version": 3
      },
      "file_extension": ".py",
      "mimetype": "text/x-python",
      "name": "python",
      "nbconvert_exporter": "python",
      "pygments_lexer": "ipython3",
      "version": "3.8.10"
    },
    "toc": {
      "base_numbering": 1,
      "nav_menu": {
        "height": "512px",
        "width": "252px"
      },
      "number_sections": true,
      "sideBar": true,
      "skip_h1_title": false,
      "title_cell": "Table of Contents",
      "title_sidebar": "Contents",
      "toc_cell": true,
      "toc_position": {},
      "toc_section_display": false,
      "toc_window_display": true
    }
  },
  "nbformat": 4,
  "nbformat_minor": 0
}